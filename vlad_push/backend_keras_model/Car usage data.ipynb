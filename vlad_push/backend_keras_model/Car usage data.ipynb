{
 "cells": [
  {
   "cell_type": "code",
   "execution_count": 104,
   "metadata": {},
   "outputs": [],
   "source": [
    "import numpy as np\n",
    "import pandas as pd\n",
    "from itertools import product\n"
   ]
  },
  {
   "cell_type": "code",
   "execution_count": 56,
   "metadata": {},
   "outputs": [
    {
     "name": "stderr",
     "output_type": "stream",
     "text": [
      "C:\\Users\\vulnic\\Anaconda3\\lib\\site-packages\\IPython\\core\\interactiveshell.py:3020: DtypeWarning: Columns (96) have mixed types. Specify dtype option on import or set low_memory=False.\n",
      "  interactivity=interactivity, compiler=compiler, result=result)\n"
     ]
    },
    {
     "data": {
      "text/html": [
       "<div>\n",
       "<style scoped>\n",
       "    .dataframe tbody tr th:only-of-type {\n",
       "        vertical-align: middle;\n",
       "    }\n",
       "\n",
       "    .dataframe tbody tr th {\n",
       "        vertical-align: top;\n",
       "    }\n",
       "\n",
       "    .dataframe thead th {\n",
       "        text-align: right;\n",
       "    }\n",
       "</style>\n",
       "<table border=\"1\" class=\"dataframe\">\n",
       "  <thead>\n",
       "    <tr style=\"text-align: right;\">\n",
       "      <th></th>\n",
       "      <th>X</th>\n",
       "      <th>Y</th>\n",
       "      <th>OBJECTID</th>\n",
       "      <th>LOCATION_ID</th>\n",
       "      <th>COUNTY_ID</th>\n",
       "      <th>COUNTY_DESC</th>\n",
       "      <th>MUN_SORT</th>\n",
       "      <th>MUNICIPALITY</th>\n",
       "      <th>ROADNAME</th>\n",
       "      <th>ID_PREFIX</th>\n",
       "      <th>...</th>\n",
       "      <th>AAWDT_2015_ANNO</th>\n",
       "      <th>AAWDT_2016_ANNO</th>\n",
       "      <th>AAWDT_ANNO</th>\n",
       "      <th>MOTORCYCLE_AADT_ANNO</th>\n",
       "      <th>CAR_AADT_ANNO</th>\n",
       "      <th>BUS_AADT_ANNO</th>\n",
       "      <th>LIGHT_TRUCK_AADT_ANNO</th>\n",
       "      <th>SINGLE_UNIT_AADT_ANNO</th>\n",
       "      <th>COMBINATION_UNIT_AADT_ANNO</th>\n",
       "      <th>TRUCK_AADT_ANNO</th>\n",
       "    </tr>\n",
       "  </thead>\n",
       "  <tbody>\n",
       "    <tr>\n",
       "      <th>0</th>\n",
       "      <td>-77.077211</td>\n",
       "      <td>39.002632</td>\n",
       "      <td>3001</td>\n",
       "      <td>B2951</td>\n",
       "      <td>15</td>\n",
       "      <td>Montgomery</td>\n",
       "      <td>0</td>\n",
       "      <td>NaN</td>\n",
       "      <td>CONNECTICUT AVE                               ...</td>\n",
       "      <td>MD</td>\n",
       "      <td>...</td>\n",
       "      <td>70,432</td>\n",
       "      <td>76,640</td>\n",
       "      <td>78,491</td>\n",
       "      <td>51</td>\n",
       "      <td>63,277</td>\n",
       "      <td>263</td>\n",
       "      <td>7,395</td>\n",
       "      <td>1,573</td>\n",
       "      <td>792</td>\n",
       "      <td>9,760</td>\n",
       "    </tr>\n",
       "    <tr>\n",
       "      <th>1</th>\n",
       "      <td>-76.089059</td>\n",
       "      <td>39.697747</td>\n",
       "      <td>3002</td>\n",
       "      <td>B1602</td>\n",
       "      <td>7</td>\n",
       "      <td>Cecil</td>\n",
       "      <td>0</td>\n",
       "      <td>NaN</td>\n",
       "      <td>RISING SUN BYPASS                             ...</td>\n",
       "      <td>US</td>\n",
       "      <td>...</td>\n",
       "      <td>5,062</td>\n",
       "      <td>5,310</td>\n",
       "      <td>5,431</td>\n",
       "      <td>28</td>\n",
       "      <td>3,569</td>\n",
       "      <td>46</td>\n",
       "      <td>965</td>\n",
       "      <td>281</td>\n",
       "      <td>182</td>\n",
       "      <td>1,428</td>\n",
       "    </tr>\n",
       "    <tr>\n",
       "      <th>2</th>\n",
       "      <td>-76.784558</td>\n",
       "      <td>39.122622</td>\n",
       "      <td>3003</td>\n",
       "      <td>S2006020032</td>\n",
       "      <td>2</td>\n",
       "      <td>Anne Arundel</td>\n",
       "      <td>0</td>\n",
       "      <td>NaN</td>\n",
       "      <td>RAMP 7 FR RAMP 2 (MD32) TO GUILFORD RD        ...</td>\n",
       "      <td>RP</td>\n",
       "      <td>...</td>\n",
       "      <td>3,660</td>\n",
       "      <td>3,741</td>\n",
       "      <td>3,832</td>\n",
       "      <td>NaN</td>\n",
       "      <td>NaN</td>\n",
       "      <td>NaN</td>\n",
       "      <td>NaN</td>\n",
       "      <td>NaN</td>\n",
       "      <td>NaN</td>\n",
       "      <td>NaN</td>\n",
       "    </tr>\n",
       "    <tr>\n",
       "      <th>3</th>\n",
       "      <td>-76.821400</td>\n",
       "      <td>39.099429</td>\n",
       "      <td>3004</td>\n",
       "      <td>S2011020807</td>\n",
       "      <td>2</td>\n",
       "      <td>Anne Arundel</td>\n",
       "      <td>0</td>\n",
       "      <td>NaN</td>\n",
       "      <td>OLD LINE AVE                                  ...</td>\n",
       "      <td>CO</td>\n",
       "      <td>...</td>\n",
       "      <td>4,604</td>\n",
       "      <td>4,705</td>\n",
       "      <td>4,710</td>\n",
       "      <td>NaN</td>\n",
       "      <td>NaN</td>\n",
       "      <td>NaN</td>\n",
       "      <td>NaN</td>\n",
       "      <td>NaN</td>\n",
       "      <td>NaN</td>\n",
       "      <td>NaN</td>\n",
       "    </tr>\n",
       "    <tr>\n",
       "      <th>4</th>\n",
       "      <td>-75.854726</td>\n",
       "      <td>38.815465</td>\n",
       "      <td>3005</td>\n",
       "      <td>S2014050531</td>\n",
       "      <td>5</td>\n",
       "      <td>Caroline</td>\n",
       "      <td>0</td>\n",
       "      <td>NaN</td>\n",
       "      <td>AMERICAN CORNER RD                            ...</td>\n",
       "      <td>CO</td>\n",
       "      <td>...</td>\n",
       "      <td>921</td>\n",
       "      <td>952</td>\n",
       "      <td>923</td>\n",
       "      <td>NaN</td>\n",
       "      <td>NaN</td>\n",
       "      <td>NaN</td>\n",
       "      <td>NaN</td>\n",
       "      <td>NaN</td>\n",
       "      <td>NaN</td>\n",
       "      <td>NaN</td>\n",
       "    </tr>\n",
       "  </tbody>\n",
       "</table>\n",
       "<p>5 rows × 103 columns</p>\n",
       "</div>"
      ],
      "text/plain": [
       "           X          Y  OBJECTID  LOCATION_ID  COUNTY_ID   COUNTY_DESC  \\\n",
       "0 -77.077211  39.002632      3001        B2951         15    Montgomery   \n",
       "1 -76.089059  39.697747      3002        B1602          7         Cecil   \n",
       "2 -76.784558  39.122622      3003  S2006020032          2  Anne Arundel   \n",
       "3 -76.821400  39.099429      3004  S2011020807          2  Anne Arundel   \n",
       "4 -75.854726  38.815465      3005  S2014050531          5      Caroline   \n",
       "\n",
       "   MUN_SORT MUNICIPALITY                                           ROADNAME  \\\n",
       "0         0          NaN  CONNECTICUT AVE                               ...   \n",
       "1         0          NaN  RISING SUN BYPASS                             ...   \n",
       "2         0          NaN  RAMP 7 FR RAMP 2 (MD32) TO GUILFORD RD        ...   \n",
       "3         0          NaN  OLD LINE AVE                                  ...   \n",
       "4         0          NaN  AMERICAN CORNER RD                            ...   \n",
       "\n",
       "  ID_PREFIX       ...        AAWDT_2015_ANNO AAWDT_2016_ANNO  AAWDT_ANNO  \\\n",
       "0        MD       ...                 70,432          76,640      78,491   \n",
       "1        US       ...                  5,062           5,310       5,431   \n",
       "2        RP       ...                  3,660           3,741       3,832   \n",
       "3        CO       ...                  4,604           4,705       4,710   \n",
       "4        CO       ...                    921             952         923   \n",
       "\n",
       "   MOTORCYCLE_AADT_ANNO  CAR_AADT_ANNO BUS_AADT_ANNO LIGHT_TRUCK_AADT_ANNO  \\\n",
       "0                    51         63,277           263                 7,395   \n",
       "1                    28          3,569            46                   965   \n",
       "2                   NaN            NaN           NaN                   NaN   \n",
       "3                   NaN            NaN           NaN                   NaN   \n",
       "4                   NaN            NaN           NaN                   NaN   \n",
       "\n",
       "  SINGLE_UNIT_AADT_ANNO  COMBINATION_UNIT_AADT_ANNO TRUCK_AADT_ANNO  \n",
       "0                 1,573                         792           9,760  \n",
       "1                   281                         182           1,428  \n",
       "2                   NaN                         NaN             NaN  \n",
       "3                   NaN                         NaN             NaN  \n",
       "4                   NaN                         NaN             NaN  \n",
       "\n",
       "[5 rows x 103 columns]"
      ]
     },
     "execution_count": 56,
     "metadata": {},
     "output_type": "execute_result"
    }
   ],
   "source": [
    "AADT_data = pd.read_csv('Maryland_Annual_Average_Daily_Traffic__Annual_Average_Daily_Traffic_SHA_Statewide_AADT_Points.csv');\n",
    "AADT_data.head()"
   ]
  },
  {
   "cell_type": "code",
   "execution_count": 73,
   "metadata": {},
   "outputs": [],
   "source": [
    "#Car usage by index, index 0 of every array matches\n",
    "car_usage_2015 = AADT_data['AAWDT_2015_ANNO']\n",
    "car_usage_2016 = AADT_data['AAWDT_2016_ANNO']\n",
    "\n",
    "#road names by index \n",
    "road_names = AADT_data['ROADNAME']\n",
    "\n",
    "#Pairs or coordinates by index of X,Y\n",
    "#Combining takes too long\n",
    "X = AADT_data['X']\n",
    "Y = AADT_data['Y']\n"
   ]
  },
  {
   "cell_type": "code",
   "execution_count": 74,
   "metadata": {},
   "outputs": [],
   "source": [
    "car_2015 = np.array(car_usage_2015)\n",
    "car_2016 = np.array(car_usage_2016)\n",
    "X = np.array(X)\n",
    "Y = np.array(Y)\n"
   ]
  },
  {
   "cell_type": "code",
   "execution_count": 75,
   "metadata": {},
   "outputs": [],
   "source": [
    "car_2015 = np.expand_dims(car_2015,axis = 0)\n",
    "car_2016 = np.expand_dims(car_2016,axis = 0)\n",
    "X = np.expand_dims(X,axis = 0)\n",
    "Y = np.expand_dims(Y,axis = 0)"
   ]
  },
  {
   "cell_type": "code",
   "execution_count": 76,
   "metadata": {},
   "outputs": [
    {
     "name": "stdout",
     "output_type": "stream",
     "text": [
      "(1, 9048)\n",
      "(1, 9048)\n",
      "(1, 9048)\n",
      "(1, 9048)\n"
     ]
    }
   ],
   "source": [
    "print(car_2015.shape)\n",
    "print(car_2016.shape)\n",
    "print(X.shape)\n",
    "print(Y.shape)"
   ]
  },
  {
   "cell_type": "code",
   "execution_count": 77,
   "metadata": {},
   "outputs": [
    {
     "data": {
      "text/plain": [
       "(9048, 1)"
      ]
     },
     "execution_count": 77,
     "metadata": {},
     "output_type": "execute_result"
    }
   ],
   "source": [
    "car_2015 = np.transpose(car_2015)\n",
    "car_2016 = np.transpose(car_2016)\n",
    "X = np.transpose(X)\n",
    "Y = np.transpose(Y)\n",
    "Y.shape"
   ]
  },
  {
   "cell_type": "code",
   "execution_count": 78,
   "metadata": {},
   "outputs": [
    {
     "name": "stdout",
     "output_type": "stream",
     "text": [
      "(9048, 1)\n",
      "(9048, 1)\n",
      "(9048, 1)\n",
      "(9048, 1)\n"
     ]
    }
   ],
   "source": [
    "print(car_2015.shape)\n",
    "print(car_2016.shape)\n",
    "print(X.shape)\n",
    "print(Y.shape)"
   ]
  },
  {
   "cell_type": "code",
   "execution_count": 79,
   "metadata": {},
   "outputs": [
    {
     "data": {
      "text/plain": [
       "(9048, 1)"
      ]
     },
     "execution_count": 79,
     "metadata": {},
     "output_type": "execute_result"
    }
   ],
   "source": [
    "mega_list =X\n",
    "mega_list.shape"
   ]
  },
  {
   "cell_type": "code",
   "execution_count": 80,
   "metadata": {},
   "outputs": [],
   "source": [
    "mega_list = np.append(mega_list,Y,axis=1)\n",
    "mega_list = np.append(mega_list,car_2015,axis=1)\n",
    "mega_list = np.append(mega_list,car_2016,axis=1)"
   ]
  },
  {
   "cell_type": "code",
   "execution_count": 81,
   "metadata": {},
   "outputs": [
    {
     "name": "stdout",
     "output_type": "stream",
     "text": [
      "(9048, 4)\n",
      "(9048, 1)\n"
     ]
    }
   ],
   "source": [
    "print(mega_list.shape)\n",
    "print(car_2015.shape)"
   ]
  },
  {
   "cell_type": "code",
   "execution_count": 105,
   "metadata": {},
   "outputs": [
    {
     "data": {
      "text/plain": [
       "(9048, 4)"
      ]
     },
     "execution_count": 105,
     "metadata": {},
     "output_type": "execute_result"
    }
   ],
   "source": [
    "mega_list.shape"
   ]
  },
  {
   "cell_type": "code",
   "execution_count": 106,
   "metadata": {},
   "outputs": [
    {
     "data": {
      "text/plain": [
       "(9048,)"
      ]
     },
     "execution_count": 106,
     "metadata": {},
     "output_type": "execute_result"
    }
   ],
   "source": [
    "mega_list[:,0].shape"
   ]
  },
  {
   "cell_type": "code",
   "execution_count": 102,
   "metadata": {},
   "outputs": [
    {
     "data": {
      "text/html": [
       "<div>\n",
       "<style scoped>\n",
       "    .dataframe tbody tr th:only-of-type {\n",
       "        vertical-align: middle;\n",
       "    }\n",
       "\n",
       "    .dataframe tbody tr th {\n",
       "        vertical-align: top;\n",
       "    }\n",
       "\n",
       "    .dataframe thead th {\n",
       "        text-align: right;\n",
       "    }\n",
       "</style>\n",
       "<table border=\"1\" class=\"dataframe\">\n",
       "  <thead>\n",
       "    <tr style=\"text-align: right;\">\n",
       "      <th></th>\n",
       "      <th>X</th>\n",
       "      <th>Y</th>\n",
       "      <th>AADT 2015</th>\n",
       "      <th>AADT 2016</th>\n",
       "    </tr>\n",
       "  </thead>\n",
       "  <tbody>\n",
       "    <tr>\n",
       "      <th>0</th>\n",
       "      <td>-77.0772</td>\n",
       "      <td>39.0026</td>\n",
       "      <td>70,432</td>\n",
       "      <td>76,640</td>\n",
       "    </tr>\n",
       "    <tr>\n",
       "      <th>1</th>\n",
       "      <td>-76.0891</td>\n",
       "      <td>39.6977</td>\n",
       "      <td>5,062</td>\n",
       "      <td>5,310</td>\n",
       "    </tr>\n",
       "    <tr>\n",
       "      <th>2</th>\n",
       "      <td>-76.7846</td>\n",
       "      <td>39.1226</td>\n",
       "      <td>3,660</td>\n",
       "      <td>3,741</td>\n",
       "    </tr>\n",
       "    <tr>\n",
       "      <th>3</th>\n",
       "      <td>-76.8214</td>\n",
       "      <td>39.0994</td>\n",
       "      <td>4,604</td>\n",
       "      <td>4,705</td>\n",
       "    </tr>\n",
       "    <tr>\n",
       "      <th>4</th>\n",
       "      <td>-75.8547</td>\n",
       "      <td>38.8155</td>\n",
       "      <td>921</td>\n",
       "      <td>952</td>\n",
       "    </tr>\n",
       "  </tbody>\n",
       "</table>\n",
       "</div>"
      ],
      "text/plain": [
       "         X        Y AADT 2015 AADT 2016\n",
       "0 -77.0772  39.0026    70,432    76,640\n",
       "1 -76.0891  39.6977     5,062     5,310\n",
       "2 -76.7846  39.1226     3,660     3,741\n",
       "3 -76.8214  39.0994     4,604     4,705\n",
       "4 -75.8547  38.8155       921       952"
      ]
     },
     "execution_count": 102,
     "metadata": {},
     "output_type": "execute_result"
    }
   ],
   "source": [
    "dataset = pd.DataFrame({'X':mega_list[:,0],'Y':mega_list[:,1],'AADT 2015':mega_list[:,2],'AADT 2016':mega_list[:,3]})\n",
    "dataset.head()"
   ]
  },
  {
   "cell_type": "code",
   "execution_count": 103,
   "metadata": {},
   "outputs": [],
   "source": [
    "dataset.to_csv('./loc_and_usage_201516')"
   ]
  }
 ],
 "metadata": {
  "kernelspec": {
   "display_name": "Python 3",
   "language": "python",
   "name": "python3"
  },
  "language_info": {
   "codemirror_mode": {
    "name": "ipython",
    "version": 3
   },
   "file_extension": ".py",
   "mimetype": "text/x-python",
   "name": "python",
   "nbconvert_exporter": "python",
   "pygments_lexer": "ipython3",
   "version": "3.7.1"
  }
 },
 "nbformat": 4,
 "nbformat_minor": 2
}
