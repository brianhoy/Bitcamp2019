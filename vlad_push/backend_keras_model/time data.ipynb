{
 "cells": [
  {
   "cell_type": "code",
   "execution_count": 28,
   "metadata": {
    "scrolled": false
   },
   "outputs": [],
   "source": [
    "import pandas as pd\n",
    "import numpy as np\n",
    "#loc_and_usage201516 = pd.read_csv(\"loc_and_usage_201516.csv\")\n",
    "#report = pd.read_csv(\"report_test.csv\")\n",
    "#print(report)\n",
    "#test = pd.read_csv(\"Report-11.csv\")\n",
    "#report1 = './Desktop/Report-1.csv'\n",
    "report = pd.read_csv('./reports/Report (7).csv')\n",
    "\n"
   ]
  },
  {
   "cell_type": "code",
   "execution_count": 29,
   "metadata": {
    "scrolled": true
   },
   "outputs": [
    {
     "name": "stdout",
     "output_type": "stream",
     "text": [
      "0         NaN\n",
      "1         NaN\n",
      "2         NaN\n",
      "3         NaN\n",
      "4         NaN\n",
      "5         NaN\n",
      "6         NaN\n",
      "7         NaN\n",
      "8         NaN\n",
      "9         NaN\n",
      "10        NaN\n",
      "11        NaN\n",
      "12        NaN\n",
      "13        NaN\n",
      "14        NaN\n",
      "15        NaN\n",
      "16        NaN\n",
      "17        NaN\n",
      "18        NaN\n",
      "19        NaN\n",
      "20        NaN\n",
      "21        NaN\n",
      "22        NaN\n",
      "23        NaN\n",
      "24        NaN\n",
      "25        NaN\n",
      "26        NaN\n",
      "27        NaN\n",
      "28        NaN\n",
      "29        NaN\n",
      "        ...  \n",
      "150      163 \n",
      "151      187 \n",
      "152      202 \n",
      "153      196 \n",
      "154      208 \n",
      "155      211 \n",
      "156      229 \n",
      "157      159 \n",
      "158      126 \n",
      "159      106 \n",
      "160       91 \n",
      "161       49 \n",
      "162       20 \n",
      "163       23 \n",
      "164       NaN\n",
      "165    2,578 \n",
      "166       NaN\n",
      "167       NaN\n",
      "168       NaN\n",
      "169       NaN\n",
      "170       NaN\n",
      "171       NaN\n",
      "172       NaN\n",
      "173       NaN\n",
      "174       NaN\n",
      "175       NaN\n",
      "176       NaN\n",
      "177       NaN\n",
      "178       NaN\n",
      "179       NaN\n",
      "Name: Unnamed: 46, Length: 180, dtype: object\n"
     ]
    }
   ],
   "source": [
    "#report_n = report['Unnamed: 46']\n",
    "#report.csv = test['Unnamed: 46']\n",
    "report = report['Unnamed: 46']\n",
    "print(report)"
   ]
  },
  {
   "cell_type": "code",
   "execution_count": 30,
   "metadata": {
    "scrolled": false
   },
   "outputs": [
    {
     "name": "stdout",
     "output_type": "stream",
     "text": [
      "17 \n",
      "8 \n",
      "3 \n",
      "3 \n",
      "2 \n",
      "9 \n",
      "44 \n",
      "160 \n",
      "196 \n",
      "173 \n",
      "163 \n",
      "187 \n",
      "202 \n",
      "196 \n",
      "208 \n",
      "211 \n",
      "229 \n",
      "159 \n",
      "126 \n",
      "106 \n",
      "91 \n",
      "49 \n",
      "20 \n",
      "23 \n",
      "2578 \n"
     ]
    },
    {
     "data": {
      "text/plain": [
       "'17 8 3 3 2 9 44 160 196 173 163 187 202 196 208 211 229 159 126 106 91 49 20 23 2578 '"
      ]
     },
     "execution_count": 30,
     "metadata": {},
     "output_type": "execute_result"
    }
   ],
   "source": [
    "def makeReport(report_n):\n",
    "    hours = \"\"\n",
    "    trigger = 0\n",
    "    length = \"\"\n",
    "    final = \"\"\n",
    "    for i in range(len(report_n)):\n",
    "        if type(report_n[i]) != float: #and (report_n[i] != \" \") and (report_n[i] != \"n\"):\n",
    "            start = i\n",
    "            report_n[i] = report_n[i].replace(',','')\n",
    "            #report_n[i] = report_n[i].replace('.0','')\n",
    "            print(report_n[i])\n",
    "            length = length + str(report_n[i])\n",
    "    return(length)           \n",
    "\n",
    "makeReport(report)"
   ]
  },
  {
   "cell_type": "code",
   "execution_count": 778,
   "metadata": {},
   "outputs": [
    {
     "data": {
      "text/plain": [
       "False"
      ]
     },
     "execution_count": 778,
     "metadata": {},
     "output_type": "execute_result"
    }
   ],
   "source": [
    "np.isnan(report[i]) == False\n",
    "type(report_n[i]) != float"
   ]
  },
  {
   "cell_type": "code",
   "execution_count": 10,
   "metadata": {},
   "outputs": [
    {
     "name": "stdout",
     "output_type": "stream",
     "text": [
      "28 \n",
      "16 \n",
      "10 \n",
      "12 \n",
      "37 \n",
      "85 \n",
      "151 \n",
      "257 \n",
      "229 \n",
      "223 \n",
      "208 \n",
      "244 \n",
      "240 \n",
      "222 \n",
      "230 \n",
      "277 \n",
      "327 \n",
      "377 \n",
      "289 \n",
      "244 \n",
      "187 \n",
      "134 \n",
      "77 \n",
      "37 \n",
      "4136 \n"
     ]
    },
    {
     "data": {
      "text/plain": [
       "'28 16 10 12 37 85 151 257 229 223 208 244 240 222 230 277 327 377 289 244 187 134 77 37 4136 '"
      ]
     },
     "execution_count": 10,
     "metadata": {},
     "output_type": "execute_result"
    }
   ],
   "source": [
    "makeReport(report)"
   ]
  },
  {
   "cell_type": "code",
   "execution_count": null,
   "metadata": {},
   "outputs": [],
   "source": []
  }
 ],
 "metadata": {
  "kernelspec": {
   "display_name": "Python 3",
   "language": "python",
   "name": "python3"
  },
  "language_info": {
   "codemirror_mode": {
    "name": "ipython",
    "version": 3
   },
   "file_extension": ".py",
   "mimetype": "text/x-python",
   "name": "python",
   "nbconvert_exporter": "python",
   "pygments_lexer": "ipython3",
   "version": "3.7.1"
  }
 },
 "nbformat": 4,
 "nbformat_minor": 2
}
