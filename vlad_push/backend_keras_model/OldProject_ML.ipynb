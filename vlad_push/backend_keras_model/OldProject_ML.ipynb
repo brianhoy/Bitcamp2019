{
 "cells": [
  {
   "cell_type": "code",
   "execution_count": 2,
   "metadata": {},
   "outputs": [
    {
     "name": "stderr",
     "output_type": "stream",
     "text": [
      "Using TensorFlow backend.\n"
     ]
    }
   ],
   "source": [
    "import numpy as np\n",
    "import pandas as pd\n",
    "import keras \n",
    "from keras.layers import Dense\n",
    "from keras.layers import Dropout\n",
    "from keras.models import Sequential\n",
    "from keras.optimizers import SGD\n",
    "import matplotlib.pyplot as plt\n"
   ]
  },
  {
   "cell_type": "code",
   "execution_count": 3,
   "metadata": {},
   "outputs": [],
   "source": [
    "def segment(frame):\n",
    "    y = np.array(frame['PAID_NEXT_MONTH'])\n",
    "    X = np.array(frame.drop(['ID','PAID_NEXT_MONTH'], axis = 1))\n",
    "    for i in range(0,23):\n",
    "        X[:,i] = (X[:,i] - X[:,i].mean())/(X[:,i].max() - X[:,i].min())\n",
    "    return X, y\n",
    "                 \n",
    "df_train = pd.read_csv('train.csv')\n",
    "X, y = segment(df_train)\n",
    "                "
   ]
  },
  {
   "cell_type": "code",
   "execution_count": 4,
   "metadata": {},
   "outputs": [
    {
     "data": {
      "text/plain": [
       "23"
      ]
     },
     "execution_count": 4,
     "metadata": {},
     "output_type": "execute_result"
    }
   ],
   "source": [
    "X.shape[1]"
   ]
  },
  {
   "cell_type": "code",
   "execution_count": 5,
   "metadata": {},
   "outputs": [
    {
     "data": {
      "text/plain": [
       "array([1, 1, 0, ..., 1, 1, 0], dtype=int64)"
      ]
     },
     "execution_count": 5,
     "metadata": {},
     "output_type": "execute_result"
    }
   ],
   "source": [
    "y"
   ]
  },
  {
   "cell_type": "code",
   "execution_count": 30,
   "metadata": {},
   "outputs": [],
   "source": [
    "model = Sequential()\n",
    "\n",
    "model.add(Dense(100, activation = 'relu', input_shape = (23,)))\n",
    "for x in range(0,40):\n",
    "    model.add(Dense(400, activation = 'relu'))\n",
    "    model.add(Dropout(0.2))\n",
    "    \n",
    "model.add(Dense(1, activation = 'sigmoid'))"
   ]
  },
  {
   "cell_type": "code",
   "execution_count": null,
   "metadata": {},
   "outputs": [
    {
     "name": "stdout",
     "output_type": "stream",
     "text": [
      "Train on 17550 samples, validate on 9450 samples\n",
      "Epoch 1/75\n",
      "17550/17550 [==============================] - 31s 2ms/step - loss: 0.5365 - acc: 0.7779 - val_loss: 0.5269 - val_acc: 0.7801\n",
      "Epoch 2/75\n",
      "17550/17550 [==============================] - 27s 2ms/step - loss: 0.5290 - acc: 0.7788 - val_loss: 0.5268 - val_acc: 0.7801\n",
      "Epoch 3/75\n",
      "17550/17550 [==============================] - 27s 2ms/step - loss: 0.5290 - acc: 0.7788 - val_loss: 0.5269 - val_acc: 0.7801\n",
      "Epoch 4/75\n",
      "17550/17550 [==============================] - 27s 2ms/step - loss: 0.5287 - acc: 0.7788 - val_loss: 0.5272 - val_acc: 0.7801\n",
      "Epoch 5/75\n",
      "17550/17550 [==============================] - 27s 2ms/step - loss: 0.5289 - acc: 0.7788 - val_loss: 0.5269 - val_acc: 0.7801\n",
      "Epoch 6/75\n",
      "17550/17550 [==============================] - 27s 2ms/step - loss: 0.5287 - acc: 0.7788 - val_loss: 0.5269 - val_acc: 0.7801\n",
      "Epoch 7/75\n",
      "17550/17550 [==============================] - 28s 2ms/step - loss: 0.5291 - acc: 0.7788 - val_loss: 0.5268 - val_acc: 0.7801\n",
      "Epoch 8/75\n",
      "17550/17550 [==============================] - 27s 2ms/step - loss: 0.5290 - acc: 0.7788 - val_loss: 0.5268 - val_acc: 0.7801\n",
      "Epoch 9/75\n",
      "17550/17550 [==============================] - 27s 2ms/step - loss: 0.5289 - acc: 0.7788 - val_loss: 0.5269 - val_acc: 0.7801\n",
      "Epoch 10/75\n",
      "17550/17550 [==============================] - 27s 2ms/step - loss: 0.5290 - acc: 0.7788 - val_loss: 0.5270 - val_acc: 0.7801\n",
      "Epoch 11/75\n",
      "17550/17550 [==============================] - 27s 2ms/step - loss: 0.5289 - acc: 0.7788 - val_loss: 0.5269 - val_acc: 0.7801\n",
      "Epoch 12/75\n",
      "17550/17550 [==============================] - 27s 2ms/step - loss: 0.5288 - acc: 0.7788 - val_loss: 0.5268 - val_acc: 0.7801\n",
      "Epoch 13/75\n",
      "17550/17550 [==============================] - 27s 2ms/step - loss: 0.5289 - acc: 0.7788 - val_loss: 0.5268 - val_acc: 0.7801\n",
      "Epoch 14/75\n",
      "17550/17550 [==============================] - 27s 2ms/step - loss: 0.5287 - acc: 0.7788 - val_loss: 0.5268 - val_acc: 0.7801\n",
      "Epoch 15/75\n",
      "17550/17550 [==============================] - 28s 2ms/step - loss: 0.5288 - acc: 0.7788 - val_loss: 0.5268 - val_acc: 0.7801\n",
      "Epoch 16/75\n",
      "17550/17550 [==============================] - 27s 2ms/step - loss: 0.5288 - acc: 0.7788 - val_loss: 0.5269 - val_acc: 0.7801\n",
      "Epoch 17/75\n",
      "17550/17550 [==============================] - 27s 2ms/step - loss: 0.5286 - acc: 0.7788 - val_loss: 0.5268 - val_acc: 0.7801\n",
      "Epoch 18/75\n",
      "17504/17550 [============================>.] - ETA: 0s - loss: 0.5285 - acc: 0.7790"
     ]
    }
   ],
   "source": [
    "optimizer = SGD(lr = .005, decay = 1e-6, momentum = 0.9)\n",
    "model.compile(optimizer = optimizer, loss = 'binary_crossentropy', metrics = ['accuracy'])\n",
    "model.fit(X, y, epochs = 75, validation_split = 0.35)"
   ]
  },
  {
   "cell_type": "code",
   "execution_count": 17,
   "metadata": {},
   "outputs": [
    {
     "ename": "TypeError",
     "evalue": "'History' object is not subscriptable",
     "output_type": "error",
     "traceback": [
      "\u001b[1;31m---------------------------------------------------------------------------\u001b[0m",
      "\u001b[1;31mTypeError\u001b[0m                                 Traceback (most recent call last)",
      "\u001b[1;32m<ipython-input-17-80a64b083f56>\u001b[0m in \u001b[0;36m<module>\u001b[1;34m\u001b[0m\n\u001b[1;32m----> 1\u001b[1;33m \u001b[0mplt\u001b[0m\u001b[1;33m.\u001b[0m\u001b[0mplot\u001b[0m\u001b[1;33m(\u001b[0m\u001b[0mmodel\u001b[0m\u001b[1;33m.\u001b[0m\u001b[0mhistory\u001b[0m\u001b[1;33m[\u001b[0m\u001b[1;34m'val_loss'\u001b[0m\u001b[1;33m]\u001b[0m\u001b[1;33m,\u001b[0m \u001b[1;34m'r'\u001b[0m\u001b[1;33m)\u001b[0m\u001b[1;33m\u001b[0m\u001b[1;33m\u001b[0m\u001b[0m\n\u001b[0m\u001b[0;32m      2\u001b[0m \u001b[0mplt\u001b[0m\u001b[1;33m.\u001b[0m\u001b[0mxlabel\u001b[0m\u001b[1;33m(\u001b[0m\u001b[1;34m'Epochs'\u001b[0m\u001b[1;33m)\u001b[0m\u001b[1;33m\u001b[0m\u001b[1;33m\u001b[0m\u001b[0m\n\u001b[0;32m      3\u001b[0m \u001b[0mplt\u001b[0m\u001b[1;33m.\u001b[0m\u001b[0mylabel\u001b[0m\u001b[1;33m(\u001b[0m\u001b[1;34m'Validation score'\u001b[0m\u001b[1;33m)\u001b[0m\u001b[1;33m\u001b[0m\u001b[1;33m\u001b[0m\u001b[0m\n\u001b[0;32m      4\u001b[0m \u001b[0mplt\u001b[0m\u001b[1;33m.\u001b[0m\u001b[0mshow\u001b[0m\u001b[1;33m(\u001b[0m\u001b[1;33m)\u001b[0m\u001b[1;33m\u001b[0m\u001b[1;33m\u001b[0m\u001b[0m\n",
      "\u001b[1;31mTypeError\u001b[0m: 'History' object is not subscriptable"
     ]
    }
   ],
   "source": [
    "plt.plot(model.history['val_loss'], 'r')\n",
    "plt.xlabel('Epochs')\n",
    "plt.ylabel('Validation score')\n",
    "plt.show()"
   ]
  },
  {
   "cell_type": "code",
   "execution_count": null,
   "metadata": {},
   "outputs": [],
   "source": []
  },
  {
   "cell_type": "code",
   "execution_count": null,
   "metadata": {},
   "outputs": [],
   "source": []
  },
  {
   "cell_type": "code",
   "execution_count": null,
   "metadata": {},
   "outputs": [],
   "source": []
  },
  {
   "cell_type": "code",
   "execution_count": null,
   "metadata": {},
   "outputs": [],
   "source": []
  }
 ],
 "metadata": {
  "kernelspec": {
   "display_name": "Python 3",
   "language": "python",
   "name": "python3"
  },
  "language_info": {
   "codemirror_mode": {
    "name": "ipython",
    "version": 3
   },
   "file_extension": ".py",
   "mimetype": "text/x-python",
   "name": "python",
   "nbconvert_exporter": "python",
   "pygments_lexer": "ipython3",
   "version": "3.7.1"
  }
 },
 "nbformat": 4,
 "nbformat_minor": 2
}
