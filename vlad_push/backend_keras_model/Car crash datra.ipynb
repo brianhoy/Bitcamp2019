{
 "cells": [
  {
   "cell_type": "code",
   "execution_count": 3,
   "metadata": {},
   "outputs": [],
   "source": [
    "import numpy as np\n",
    "import pandas as pd\n"
   ]
  },
  {
   "cell_type": "code",
   "execution_count": 8,
   "metadata": {},
   "outputs": [
    {
     "data": {
      "text/plain": [
       "Index(['LIGHT_CODE', 'COUNTY_NO', 'MUNI_CODE', 'JUNCTION_CODE',\n",
       "       'COLLISION_TYPE_CODE', 'SURF_COND_CODE', 'LANE_CODE', 'RD_COND_CODE',\n",
       "       'RD_DIV_CODE', 'FIX_OBJ_CODE', 'REPORT_NO', 'WEATHER_CODE', 'ACC_DATE',\n",
       "       'ACC_TIME', 'LOC_CODE', 'SIGNAL_FLAG', 'C_M_ZONE_FLAG', 'AGENCY_CODE',\n",
       "       'AREA_CODE', 'HARM_EVENT_CODE1', 'HARM_EVENT_CODE2', 'RTE_NO',\n",
       "       'ROUTE_TYPE_CODE', 'RTE_SUFFIX', 'LOG_MILE', 'LOGMILE_DIR_FLAG',\n",
       "       'MAINROAD_NAME', 'DISTANCE', 'FEET_MILES_FLAG', 'DISTANCE_DIR_FLAG',\n",
       "       'REFERENCE_NO', 'REFERENCE_TYPE_CODE', 'REFERENCE_SUFFIX',\n",
       "       'REFERENCE_ROAD_NAME', 'LATITUDE', 'LONGITUDE'],\n",
       "      dtype='object')"
      ]
     },
     "execution_count": 8,
     "metadata": {},
     "output_type": "execute_result"
    }
   ],
   "source": [
    "crash_data = pd.read_csv('MarylandStatewideCrashdata2015-2016.csv')\n",
    "crash_data.columns"
   ]
  },
  {
   "cell_type": "code",
   "execution_count": 9,
   "metadata": {},
   "outputs": [],
   "source": [
    "#Only run once, takes a while\n",
    "X = crash_data['LATITUDE']\n",
    "Y = crash_data['LONGITUDE']\n",
    "\n",
    "acc_date = crash_data['ACC_DATE']\n",
    "acc_date = crash_data['ACC_TIME']\n",
    "\n",
    "main_road = crash_data['MAINROAD_NAME']\n",
    "ref_road = crash_data['REFERENCE_ROAD_NAME']\n"
   ]
  },
  {
   "cell_type": "code",
   "execution_count": 10,
   "metadata": {},
   "outputs": [
    {
     "data": {
      "text/plain": [
       "(255673,)"
      ]
     },
     "execution_count": 10,
     "metadata": {},
     "output_type": "execute_result"
    }
   ],
   "source": [
    "main_road.shape"
   ]
  },
  {
   "cell_type": "code",
   "execution_count": 13,
   "metadata": {},
   "outputs": [
    {
     "data": {
      "text/plain": [
       "(26143,)"
      ]
     },
     "execution_count": 13,
     "metadata": {},
     "output_type": "execute_result"
    }
   ],
   "source": [
    "filtered = np.array(list(dict.fromkeys(main_road)))\n",
    "filtered.shape"
   ]
  },
  {
   "cell_type": "code",
   "execution_count": 14,
   "metadata": {},
   "outputs": [
    {
     "data": {
      "text/plain": [
       "(40817,)"
      ]
     },
     "execution_count": 14,
     "metadata": {},
     "output_type": "execute_result"
    }
   ],
   "source": [
    "filtered_ref = np.array(list(dict.fromkeys(ref_road)))\n",
    "filtered_ref.shape"
   ]
  },
  {
   "cell_type": "code",
   "execution_count": null,
   "metadata": {},
   "outputs": [],
   "source": []
  }
 ],
 "metadata": {
  "kernelspec": {
   "display_name": "Python 3",
   "language": "python",
   "name": "python3"
  },
  "language_info": {
   "codemirror_mode": {
    "name": "ipython",
    "version": 3
   },
   "file_extension": ".py",
   "mimetype": "text/x-python",
   "name": "python",
   "nbconvert_exporter": "python",
   "pygments_lexer": "ipython3",
   "version": "3.7.1"
  }
 },
 "nbformat": 4,
 "nbformat_minor": 2
}
