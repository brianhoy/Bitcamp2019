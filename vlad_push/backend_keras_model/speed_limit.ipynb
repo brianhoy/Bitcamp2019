{
 "cells": [
  {
   "cell_type": "code",
   "execution_count": 392,
   "metadata": {},
   "outputs": [],
   "source": [
    "import numpy as np\n",
    "import pandas as pd\n"
   ]
  },
  {
   "cell_type": "code",
   "execution_count": 393,
   "metadata": {},
   "outputs": [],
   "source": [
    "speed_limits = pd.read_csv('Maryland_Roadway_Posted_Speed_Limits__Roadway_Posted_Speed_Limit_Signs.csv')\n",
    "crash_data = pd.read_csv('MarylandStatewideCrashdata2015-2016.csv')\n",
    "AADT_data = pd.read_csv('Maryland_Annual_Average_Daily_Traffic__Annual_Average_Daily_Traffic_SHA_Statewide_AADT_Points.csv')\n"
   ]
  },
  {
   "cell_type": "code",
   "execution_count": 394,
   "metadata": {},
   "outputs": [],
   "source": [
    "AADT_rd = AADT_data['ROADNAME']\n",
    "car_usage_2015 = AADT_data['AAWDT_2015_ANNO']\n",
    "car_usage_2016 = AADT_data['AAWDT_2016_ANNO']"
   ]
  },
  {
   "cell_type": "code",
   "execution_count": 395,
   "metadata": {},
   "outputs": [],
   "source": [
    "rd_nm = speed_limits['ROAD_NAME']\n",
    "sd_nm = speed_limits['SPEED_LIMIT']\n",
    "\n",
    "X = speed_limits['X']\n",
    "y = speed_limits['Y']"
   ]
  },
  {
   "cell_type": "code",
   "execution_count": 396,
   "metadata": {},
   "outputs": [],
   "source": [
    "X_cr = crash_data['LATITUDE']\n",
    "Y_cr = crash_data['LONGITUDE']\n",
    "\n",
    "acc_date = crash_data['ACC_DATE']\n",
    "acc_date = crash_data['ACC_TIME']\n",
    "\n",
    "main_road = crash_data['MAINROAD_NAME']\n",
    "ref_road = crash_data['REFERENCE_ROAD_NAME']\n"
   ]
  },
  {
   "cell_type": "code",
   "execution_count": 476,
   "metadata": {},
   "outputs": [],
   "source": [
    "def RidNaN(a):\n",
    "    a = np.array(a)\n",
    "    a.shape\n",
    "    #a = np.unique(a)\n",
    "\n",
    "    q = []\n",
    "    type(a[a.shape[0]-1])\n",
    "    for i in range(a.shape[0]):\n",
    "        if(type(a[i]) == float):\n",
    "            q = np.append(q,i)\n",
    "\n",
    "    a = np.delete(a,q)\n",
    "    return a\n"
   ]
  },
  {
   "cell_type": "code",
   "execution_count": 453,
   "metadata": {},
   "outputs": [],
   "source": [
    "def whereAreNames(a):\n",
    "    u = []\n",
    "    for i in range(road_names_final_F.shape[0]):\n",
    "        l = np.where(a == road_names_final_F[i])\n",
    "        u = np.append(u,l)\n",
    "    return u"
   ]
  },
  {
   "cell_type": "code",
   "execution_count": 473,
   "metadata": {},
   "outputs": [],
   "source": [
    "def stripEveryString(a):\n",
    "    for i in range(a.shape[0]):\n",
    "        if ' ' in a[i]:\n",
    "            a[i] = str.strip(a[i])\n",
    "    return a"
   ]
  },
  {
   "cell_type": "code",
   "execution_count": 487,
   "metadata": {},
   "outputs": [],
   "source": [
    "def booleanMap(rd_array, rd_name_collection):\n",
    "    boolean_array = []\n",
    "    for i in range(rd_array.shape[0]):\n",
    "        if(np.any(rd_array[i] in rd_name_collection)):\n",
    "            boolean_array = np.append(boolean_array,True)\n",
    "        else:\n",
    "            boolean_array = np.append(boolean_array,False)\n",
    "            \n",
    "    return boolean_array"
   ]
  },
  {
   "cell_type": "code",
   "execution_count": 491,
   "metadata": {},
   "outputs": [
    {
     "data": {
      "text/plain": [
       "(1815,)"
      ]
     },
     "execution_count": 491,
     "metadata": {},
     "output_type": "execute_result"
    }
   ],
   "source": [
    "speed_limit_rd_pre = np.array(rd_nm)\n",
    "speed_limit_rd = np.unique(speed_limit_rd_pre)\n",
    "speed_limit_rd.shape"
   ]
  },
  {
   "cell_type": "code",
   "execution_count": 492,
   "metadata": {},
   "outputs": [
    {
     "name": "stderr",
     "output_type": "stream",
     "text": [
      "C:\\Users\\vulnic\\Anaconda3\\lib\\site-packages\\ipykernel_launcher.py:12: DeprecationWarning: using a non-integer array as obj in delete will result in an error in the future\n",
      "  if sys.path[0] == '':\n"
     ]
    },
    {
     "data": {
      "text/plain": [
       "array(['FALLS RD', 'I-395', '4100 BLK MORRISON CT', ..., 'ZION CHURCH RD',\n",
       "       'ZION RD', 'ZOLL LA'], dtype=object)"
      ]
     },
     "execution_count": 492,
     "metadata": {},
     "output_type": "execute_result"
    }
   ],
   "source": [
    "cras_roads_pre = RidNaN(main_road)\n",
    "cras_roads = np.unique(cras_roads_pre)\n",
    "cras_roads = stripEveryString(cras_roads)\n",
    "cras_roads"
   ]
  },
  {
   "cell_type": "code",
   "execution_count": 493,
   "metadata": {},
   "outputs": [
    {
     "data": {
      "text/plain": [
       "(1234,)"
      ]
     },
     "execution_count": 493,
     "metadata": {},
     "output_type": "execute_result"
    }
   ],
   "source": [
    "boolean_array = booleanMap(cras_roads,speed_limit_rd)\n",
    "g = np.where(boolean_array == 1)\n",
    "road_names_final = []\n",
    "road_names_final = np.append(road_names_final,cras_roads[g])\n",
    "road_names_final.shape   "
   ]
  },
  {
   "cell_type": "code",
   "execution_count": 488,
   "metadata": {},
   "outputs": [
    {
     "name": "stderr",
     "output_type": "stream",
     "text": [
      "C:\\Users\\vulnic\\Anaconda3\\lib\\site-packages\\ipykernel_launcher.py:12: DeprecationWarning: using a non-integer array as obj in delete will result in an error in the future\n",
      "  if sys.path[0] == '':\n"
     ]
    },
    {
     "data": {
      "text/plain": [
       "array(['10TH AVE', '10TH ST', '15TH ST', ..., 'YORK ST', 'ZION CHURCH RD',\n",
       "       'ZION RD'], dtype=object)"
      ]
     },
     "execution_count": 488,
     "metadata": {},
     "output_type": "execute_result"
    }
   ],
   "source": [
    "AADT_final_rd = RidNaN(AADT_rd)\n",
    "AADT_final_rd = np.unique(AADT_final_rd)\n",
    "AADT_final_rd = stripEveryString(AADT_final_rd)\n",
    "AADT_final_rd"
   ]
  },
  {
   "cell_type": "code",
   "execution_count": 489,
   "metadata": {},
   "outputs": [
    {
     "data": {
      "text/plain": [
       "(array([   2,    3,   11, ..., 5917, 5918, 5919], dtype=int64),)"
      ]
     },
     "execution_count": 489,
     "metadata": {},
     "output_type": "execute_result"
    }
   ],
   "source": [
    "boolean_array_final = booleanMap(AADT_final_rd,road_names_final)\n",
    "g = np.where(boolean_array_final == 1)\n",
    "g"
   ]
  },
  {
   "cell_type": "code",
   "execution_count": 490,
   "metadata": {},
   "outputs": [
    {
     "data": {
      "text/plain": [
       "(1004,)"
      ]
     },
     "execution_count": 490,
     "metadata": {},
     "output_type": "execute_result"
    }
   ],
   "source": [
    "road_names_final_F = []\n",
    "road_names_final_F = np.append(road_names_final_F,AADT_final_rd[g])\n",
    "road_names_final_F.shape"
   ]
  },
  {
   "cell_type": "code",
   "execution_count": 494,
   "metadata": {},
   "outputs": [
    {
     "data": {
      "text/plain": [
       "1004"
      ]
     },
     "execution_count": 494,
     "metadata": {},
     "output_type": "execute_result"
    }
   ],
   "source": [
    "count = 0\n",
    "k = []\n",
    "for i in range(speed_limit_rd.shape[0]):\n",
    "    if(speed_limit_rd[i] in road_names_final_F):\n",
    "        #k = np.append(k,cras_roads_pre[i])\n",
    "        count +=1\n",
    "        #if(count%500 == 0):\n",
    "        #    print(count)\n",
    "count"
   ]
  },
  {
   "cell_type": "code",
   "execution_count": 516,
   "metadata": {},
   "outputs": [
    {
     "name": "stdout",
     "output_type": "stream",
     "text": [
      "(3241,)\n",
      "(3241,)\n",
      "(3026,)\n"
     ]
    },
    {
     "name": "stderr",
     "output_type": "stream",
     "text": [
      "C:\\Users\\vulnic\\Anaconda3\\lib\\site-packages\\ipykernel_launcher.py:12: DeprecationWarning: using a non-integer array as obj in delete will result in an error in the future\n",
      "  if sys.path[0] == '':\n"
     ]
    }
   ],
   "source": [
    "u = whereAreNames(speed_limit_rd_pre)\n",
    "u = u.astype(np.int16)\n",
    "print(u.shape)\n",
    "\n",
    "sd = np.array(sd_nm)\n",
    "e = sd[u]\n",
    "o = speed_limit_rd_pre[u]\n",
    "print(e.shape)\n",
    "\n",
    "t = RidNaN(AADT_rd)\n",
    "t = stripEveryString(t)\n",
    "c = whereAreNames(t)\n",
    "c = c.astype(np.int32)\n",
    "t[c]\n",
    "\n",
    "print(c.shape)"
   ]
  },
  {
   "cell_type": "code",
   "execution_count": 520,
   "metadata": {},
   "outputs": [
    {
     "name": "stdout",
     "output_type": "stream",
     "text": [
      "['15TH ST' '15TH ST' '15TH ST' ... 'YORK ST' 'YORK ST' 'ZION CHURCH RD']\n",
      "[30 25 25 ... 15 25 30]\n"
     ]
    },
    {
     "data": {
      "text/plain": [
       "'15TH ST'"
      ]
     },
     "execution_count": 520,
     "metadata": {},
     "output_type": "execute_result"
    }
   ],
   "source": [
    "print(o)\n",
    "print(e)\n",
    "o[0]"
   ]
  },
  {
   "cell_type": "code",
   "execution_count": 506,
   "metadata": {},
   "outputs": [
    {
     "data": {
      "text/plain": [
       "(1004,)"
      ]
     },
     "execution_count": 506,
     "metadata": {},
     "output_type": "execute_result"
    }
   ],
   "source": [
    "road_names_final_F.shape"
   ]
  },
  {
   "cell_type": "code",
   "execution_count": 526,
   "metadata": {},
   "outputs": [
    {
     "data": {
      "text/plain": [
       "'ZION CHURCH RD'"
      ]
     },
     "execution_count": 526,
     "metadata": {},
     "output_type": "execute_result"
    }
   ],
   "source": [
    "o[o.shape[0]-1]"
   ]
  },
  {
   "cell_type": "code",
   "execution_count": 677,
   "metadata": {},
   "outputs": [],
   "source": [
    "temp = [e[0]]\n",
    "avg = []\n",
    "for i in range(o.shape[0]-1):\n",
    "    if(o[i] == o[i+1]):\n",
    "        temp = np.append(e[i],temp)\n",
    "    elif(o[i] != o[i+1]):\n",
    "        avg = np.append(np.average(temp),avg)\n",
    "        temp = [e[i+1]]\n",
    "    \n"
   ]
  },
  {
   "cell_type": "code",
   "execution_count": 678,
   "metadata": {},
   "outputs": [
    {
     "data": {
      "text/plain": [
       "30"
      ]
     },
     "execution_count": 678,
     "metadata": {},
     "output_type": "execute_result"
    }
   ],
   "source": [
    "avg = np.append(avg,e[o.shape[0]-1])\n",
    "avg[1003]\n",
    "e[e.shape[0]-1]"
   ]
  },
  {
   "cell_type": "code",
   "execution_count": 679,
   "metadata": {},
   "outputs": [
    {
     "name": "stdout",
     "output_type": "stream",
     "text": [
      "['FALLS RD' 'ANNAPOLIS RD' 'BOSTON ST' ... 'YORK ST' 'YOUNG RD'\n",
      " 'ZION CHURCH RD']\n",
      "[21.66666667 36.92307692 40.         ... 35.         28.33333333\n",
      " 30.        ]\n"
     ]
    }
   ],
   "source": [
    "print(road_names_final)\n",
    "print(avg)"
   ]
  },
  {
   "cell_type": "code",
   "execution_count": 680,
   "metadata": {},
   "outputs": [
    {
     "name": "stdout",
     "output_type": "stream",
     "text": [
      "(1004, 1) (1004, 1)\n"
     ]
    },
    {
     "data": {
      "text/plain": [
       "array([['15TH ST', 21.666666666666668],\n",
       "       ['16TH ST', 36.92307692307692],\n",
       "       ['38TH ST', 40.0],\n",
       "       ...,\n",
       "       ['YORK RD', 35.0],\n",
       "       ['YORK ST', 28.333333333333332],\n",
       "       ['ZION CHURCH RD', 30.0]], dtype=object)"
      ]
     },
     "execution_count": 680,
     "metadata": {},
     "output_type": "execute_result"
    }
   ],
   "source": [
    "j = road_names_final_F\n",
    "j = np.expand_dims(j,axis=1)\n",
    "avg = np.expand_dims(avg,axis=1)\n",
    "\n",
    "print(j.shape,avg.shape)\n",
    "j = np.append(j,avg,axis=1)\n",
    "j"
   ]
  },
  {
   "cell_type": "code",
   "execution_count": 681,
   "metadata": {},
   "outputs": [
    {
     "data": {
      "text/html": [
       "<div>\n",
       "<style scoped>\n",
       "    .dataframe tbody tr th:only-of-type {\n",
       "        vertical-align: middle;\n",
       "    }\n",
       "\n",
       "    .dataframe tbody tr th {\n",
       "        vertical-align: top;\n",
       "    }\n",
       "\n",
       "    .dataframe thead th {\n",
       "        text-align: right;\n",
       "    }\n",
       "</style>\n",
       "<table border=\"1\" class=\"dataframe\">\n",
       "  <thead>\n",
       "    <tr style=\"text-align: right;\">\n",
       "      <th></th>\n",
       "      <th>Roads</th>\n",
       "      <th>Speed Limit</th>\n",
       "    </tr>\n",
       "  </thead>\n",
       "  <tbody>\n",
       "    <tr>\n",
       "      <th>0</th>\n",
       "      <td>15TH ST</td>\n",
       "      <td>21.6667</td>\n",
       "    </tr>\n",
       "    <tr>\n",
       "      <th>1</th>\n",
       "      <td>16TH ST</td>\n",
       "      <td>36.9231</td>\n",
       "    </tr>\n",
       "    <tr>\n",
       "      <th>2</th>\n",
       "      <td>38TH ST</td>\n",
       "      <td>40</td>\n",
       "    </tr>\n",
       "    <tr>\n",
       "      <th>3</th>\n",
       "      <td>4H PARK RD</td>\n",
       "      <td>25</td>\n",
       "    </tr>\n",
       "    <tr>\n",
       "      <th>4</th>\n",
       "      <td>57TH AVE</td>\n",
       "      <td>36.6667</td>\n",
       "    </tr>\n",
       "  </tbody>\n",
       "</table>\n",
       "</div>"
      ],
      "text/plain": [
       "        Roads Speed Limit\n",
       "0     15TH ST     21.6667\n",
       "1     16TH ST     36.9231\n",
       "2     38TH ST          40\n",
       "3  4H PARK RD          25\n",
       "4    57TH AVE     36.6667"
      ]
     },
     "execution_count": 681,
     "metadata": {},
     "output_type": "execute_result"
    }
   ],
   "source": [
    "dataset = pd.DataFrame({'Roads':j[:,0],'Speed Limit':j[:,1]})\n",
    "dataset.head()"
   ]
  },
  {
   "cell_type": "code",
   "execution_count": 682,
   "metadata": {},
   "outputs": [],
   "source": [
    "dataset.to_csv('./Roads_and_speed_limits')"
   ]
  },
  {
   "cell_type": "code",
   "execution_count": 683,
   "metadata": {},
   "outputs": [],
   "source": [
    "for i in range (j.shape[0]):\n",
    "    j[i,1] = int(round(j[i,1]/10,0))*10\n",
    "        "
   ]
  },
  {
   "cell_type": "code",
   "execution_count": 689,
   "metadata": {},
   "outputs": [
    {
     "name": "stdout",
     "output_type": "stream",
     "text": [
      "[20 30 40 50 60 70]\n"
     ]
    }
   ],
   "source": [
    "print(np.unique(j[:,1]))"
   ]
  },
  {
   "cell_type": "code",
   "execution_count": 690,
   "metadata": {},
   "outputs": [
    {
     "data": {
      "text/html": [
       "<div>\n",
       "<style scoped>\n",
       "    .dataframe tbody tr th:only-of-type {\n",
       "        vertical-align: middle;\n",
       "    }\n",
       "\n",
       "    .dataframe tbody tr th {\n",
       "        vertical-align: top;\n",
       "    }\n",
       "\n",
       "    .dataframe thead th {\n",
       "        text-align: right;\n",
       "    }\n",
       "</style>\n",
       "<table border=\"1\" class=\"dataframe\">\n",
       "  <thead>\n",
       "    <tr style=\"text-align: right;\">\n",
       "      <th></th>\n",
       "      <th>Roads</th>\n",
       "      <th>Speed Limit</th>\n",
       "    </tr>\n",
       "  </thead>\n",
       "  <tbody>\n",
       "    <tr>\n",
       "      <th>0</th>\n",
       "      <td>15TH ST</td>\n",
       "      <td>20</td>\n",
       "    </tr>\n",
       "    <tr>\n",
       "      <th>1</th>\n",
       "      <td>16TH ST</td>\n",
       "      <td>40</td>\n",
       "    </tr>\n",
       "    <tr>\n",
       "      <th>2</th>\n",
       "      <td>38TH ST</td>\n",
       "      <td>40</td>\n",
       "    </tr>\n",
       "    <tr>\n",
       "      <th>3</th>\n",
       "      <td>4H PARK RD</td>\n",
       "      <td>20</td>\n",
       "    </tr>\n",
       "    <tr>\n",
       "      <th>4</th>\n",
       "      <td>57TH AVE</td>\n",
       "      <td>40</td>\n",
       "    </tr>\n",
       "  </tbody>\n",
       "</table>\n",
       "</div>"
      ],
      "text/plain": [
       "        Roads Speed Limit\n",
       "0     15TH ST          20\n",
       "1     16TH ST          40\n",
       "2     38TH ST          40\n",
       "3  4H PARK RD          20\n",
       "4    57TH AVE          40"
      ]
     },
     "execution_count": 690,
     "metadata": {},
     "output_type": "execute_result"
    }
   ],
   "source": [
    "dataset = pd.DataFrame({'Roads':j[:,0],'Speed Limit':j[:,1]})\n",
    "dataset.head()"
   ]
  },
  {
   "cell_type": "code",
   "execution_count": 691,
   "metadata": {},
   "outputs": [],
   "source": [
    "dataset.to_csv('./Roads_and_speed_limits_new')"
   ]
  },
  {
   "cell_type": "code",
   "execution_count": null,
   "metadata": {},
   "outputs": [],
   "source": []
  }
 ],
 "metadata": {
  "kernelspec": {
   "display_name": "Python 3",
   "language": "python",
   "name": "python3"
  },
  "language_info": {
   "codemirror_mode": {
    "name": "ipython",
    "version": 3
   },
   "file_extension": ".py",
   "mimetype": "text/x-python",
   "name": "python",
   "nbconvert_exporter": "python",
   "pygments_lexer": "ipython3",
   "version": "3.7.1"
  }
 },
 "nbformat": 4,
 "nbformat_minor": 2
}
